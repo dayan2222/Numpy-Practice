{
 "cells": [
  {
   "cell_type": "code",
   "execution_count": 1,
   "metadata": {},
   "outputs": [],
   "source": [
    "import numpy as np"
   ]
  },
  {
   "cell_type": "code",
   "execution_count": 2,
   "metadata": {},
   "outputs": [],
   "source": [
    "x = np.random.randn(4,5)"
   ]
  },
  {
   "cell_type": "code",
   "execution_count": 3,
   "metadata": {},
   "outputs": [
    {
     "data": {
      "text/plain": [
       "array([[ 0.17653814,  1.03848306,  0.80935743,  0.42968909,  0.38395722],\n",
       "       [ 0.38966827, -0.15498232,  1.35715836,  0.3197278 ,  0.8274973 ],\n",
       "       [ 1.61644879, -0.82788937,  1.05277032, -1.12492343, -0.18304418],\n",
       "       [-1.06821723, -0.7689823 ,  0.70882   , -3.03771789, -1.31253843]])"
      ]
     },
     "execution_count": 3,
     "metadata": {},
     "output_type": "execute_result"
    }
   ],
   "source": [
    "x"
   ]
  },
  {
   "cell_type": "code",
   "execution_count": 7,
   "metadata": {},
   "outputs": [
    {
     "data": {
      "text/plain": [
       "array([[[ 0.17653814,  1.03848306,  0.80935743,  0.42968909,\n",
       "          0.38395722],\n",
       "        [ 0.38966827, -0.15498232,  1.35715836,  0.3197278 ,\n",
       "          0.8274973 ]],\n",
       "\n",
       "       [[ 1.61644879, -0.82788937,  1.05277032, -1.12492343,\n",
       "         -0.18304418],\n",
       "        [-1.06821723, -0.7689823 ,  0.70882   , -3.03771789,\n",
       "         -1.31253843]]])"
      ]
     },
     "execution_count": 7,
     "metadata": {},
     "output_type": "execute_result"
    }
   ],
   "source": [
    "x.reshape((2,2,5))"
   ]
  },
  {
   "cell_type": "code",
   "execution_count": 8,
   "metadata": {},
   "outputs": [
    {
     "data": {
      "text/plain": [
       "array([[[ 0.17653814,  1.03848306,  0.80935743,  0.42968909,\n",
       "          0.38395722],\n",
       "        [ 1.61644879, -0.82788937,  1.05277032, -1.12492343,\n",
       "         -0.18304418]],\n",
       "\n",
       "       [[ 0.38966827, -0.15498232,  1.35715836,  0.3197278 ,\n",
       "          0.8274973 ],\n",
       "        [-1.06821723, -0.7689823 ,  0.70882   , -3.03771789,\n",
       "         -1.31253843]]])"
      ]
     },
     "execution_count": 8,
     "metadata": {},
     "output_type": "execute_result"
    }
   ],
   "source": [
    "x.reshape((2,2,5), order = 'F')"
   ]
  },
  {
   "cell_type": "code",
   "execution_count": 9,
   "metadata": {},
   "outputs": [
    {
     "data": {
      "text/plain": [
       "array([[[ 0.17653814,  1.03848306,  0.80935743,  0.42968909,\n",
       "          0.38395722],\n",
       "        [ 0.38966827, -0.15498232,  1.35715836,  0.3197278 ,\n",
       "          0.8274973 ]],\n",
       "\n",
       "       [[ 1.61644879, -0.82788937,  1.05277032, -1.12492343,\n",
       "         -0.18304418],\n",
       "        [-1.06821723, -0.7689823 ,  0.70882   , -3.03771789,\n",
       "         -1.31253843]]])"
      ]
     },
     "execution_count": 9,
     "metadata": {},
     "output_type": "execute_result"
    }
   ],
   "source": [
    "x.reshape((2,2,5), order = 'C')"
   ]
  },
  {
   "cell_type": "code",
   "execution_count": 11,
   "metadata": {},
   "outputs": [
    {
     "data": {
      "text/plain": [
       "array([[[ 0.17653814,  1.03848306,  0.80935743,  0.42968909,\n",
       "          0.38395722],\n",
       "        [ 0.38966827, -0.15498232,  1.35715836,  0.3197278 ,\n",
       "          0.8274973 ]],\n",
       "\n",
       "       [[ 1.61644879, -0.82788937,  1.05277032, -1.12492343,\n",
       "         -0.18304418],\n",
       "        [-1.06821723, -0.7689823 ,  0.70882   , -3.03771789,\n",
       "         -1.31253843]]])"
      ]
     },
     "execution_count": 11,
     "metadata": {},
     "output_type": "execute_result"
    }
   ],
   "source": [
    "x.reshape((2,2,-1))"
   ]
  },
  {
   "cell_type": "code",
   "execution_count": 12,
   "metadata": {},
   "outputs": [
    {
     "data": {
      "text/plain": [
       "array([[ 0.17653814,  1.03848306,  0.80935743,  0.42968909,  0.38395722],\n",
       "       [ 0.38966827, -0.15498232,  1.35715836,  0.3197278 ,  0.8274973 ],\n",
       "       [ 1.61644879, -0.82788937,  1.05277032, -1.12492343, -0.18304418],\n",
       "       [-1.06821723, -0.7689823 ,  0.70882   , -3.03771789, -1.31253843]])"
      ]
     },
     "execution_count": 12,
     "metadata": {},
     "output_type": "execute_result"
    }
   ],
   "source": [
    "x"
   ]
  },
  {
   "cell_type": "code",
   "execution_count": 13,
   "metadata": {},
   "outputs": [
    {
     "data": {
      "text/plain": [
       "array([ 0.17653814,  1.03848306,  0.80935743,  0.42968909,  0.38395722,\n",
       "        0.38966827, -0.15498232,  1.35715836,  0.3197278 ,  0.8274973 ,\n",
       "        1.61644879, -0.82788937,  1.05277032, -1.12492343, -0.18304418,\n",
       "       -1.06821723, -0.7689823 ,  0.70882   , -3.03771789, -1.31253843])"
      ]
     },
     "execution_count": 13,
     "metadata": {},
     "output_type": "execute_result"
    }
   ],
   "source": [
    "x.flatten()"
   ]
  },
  {
   "cell_type": "code",
   "execution_count": 14,
   "metadata": {},
   "outputs": [
    {
     "data": {
      "text/plain": [
       "array([ 0.17653814,  1.03848306,  0.80935743,  0.42968909,  0.38395722,\n",
       "        0.38966827, -0.15498232,  1.35715836,  0.3197278 ,  0.8274973 ,\n",
       "        1.61644879, -0.82788937,  1.05277032, -1.12492343, -0.18304418,\n",
       "       -1.06821723, -0.7689823 ,  0.70882   , -3.03771789, -1.31253843])"
      ]
     },
     "execution_count": 14,
     "metadata": {},
     "output_type": "execute_result"
    }
   ],
   "source": [
    "x.ravel()"
   ]
  },
  {
   "cell_type": "code",
   "execution_count": null,
   "metadata": {},
   "outputs": [],
   "source": []
  }
 ],
 "metadata": {
  "kernelspec": {
   "display_name": "Python 3",
   "language": "python",
   "name": "python3"
  },
  "language_info": {
   "codemirror_mode": {
    "name": "ipython",
    "version": 3
   },
   "file_extension": ".py",
   "mimetype": "text/x-python",
   "name": "python",
   "nbconvert_exporter": "python",
   "pygments_lexer": "ipython3",
   "version": "3.7.3"
  }
 },
 "nbformat": 4,
 "nbformat_minor": 2
}
