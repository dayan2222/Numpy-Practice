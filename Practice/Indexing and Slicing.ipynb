{
 "cells": [
  {
   "cell_type": "code",
   "execution_count": 1,
   "metadata": {},
   "outputs": [],
   "source": [
    "import numpy as np"
   ]
  },
  {
   "cell_type": "code",
   "execution_count": 2,
   "metadata": {},
   "outputs": [],
   "source": [
    "x = np.array([1,7,9,8,5])"
   ]
  },
  {
   "cell_type": "code",
   "execution_count": 3,
   "metadata": {},
   "outputs": [
    {
     "data": {
      "text/plain": [
       "array([1, 7, 9, 8, 5])"
      ]
     },
     "execution_count": 3,
     "metadata": {},
     "output_type": "execute_result"
    }
   ],
   "source": [
    "x"
   ]
  },
  {
   "cell_type": "code",
   "execution_count": 4,
   "metadata": {},
   "outputs": [
    {
     "data": {
      "text/plain": [
       "5"
      ]
     },
     "execution_count": 4,
     "metadata": {},
     "output_type": "execute_result"
    }
   ],
   "source": [
    "x[4]"
   ]
  },
  {
   "cell_type": "code",
   "execution_count": 5,
   "metadata": {},
   "outputs": [
    {
     "data": {
      "text/plain": [
       "array([7, 9, 8])"
      ]
     },
     "execution_count": 5,
     "metadata": {},
     "output_type": "execute_result"
    }
   ],
   "source": [
    "x[x>5]"
   ]
  },
  {
   "cell_type": "code",
   "execution_count": 6,
   "metadata": {},
   "outputs": [
    {
     "data": {
      "text/plain": [
       "array([9, 7])"
      ]
     },
     "execution_count": 6,
     "metadata": {},
     "output_type": "execute_result"
    }
   ],
   "source": [
    "# Fancy Indexing \n",
    "x[[2,1]]"
   ]
  },
  {
   "cell_type": "markdown",
   "metadata": {},
   "source": [
    "### Slicing "
   ]
  },
  {
   "cell_type": "code",
   "execution_count": 7,
   "metadata": {},
   "outputs": [],
   "source": [
    "s = np.random.rand(10,10)"
   ]
  },
  {
   "cell_type": "code",
   "execution_count": 8,
   "metadata": {},
   "outputs": [
    {
     "data": {
      "text/plain": [
       "array([[0.1968744 , 0.24562439, 0.48022316, 0.94416808, 0.62586616,\n",
       "        0.42635519, 0.16042496, 0.91342884, 0.32412713, 0.99901801],\n",
       "       [0.80952492, 0.63431058, 0.62664061, 0.43110857, 0.52052348,\n",
       "        0.51554312, 0.85335088, 0.86787827, 0.52504198, 0.01256688],\n",
       "       [0.97572105, 0.24856718, 0.68950905, 0.45227152, 0.23556124,\n",
       "        0.24711297, 0.78856946, 0.01347836, 0.24741508, 0.23358919],\n",
       "       [0.09776491, 0.9288483 , 0.15496467, 0.96206312, 0.15119554,\n",
       "        0.66394656, 0.6650524 , 0.12639829, 0.30264687, 0.20809227],\n",
       "       [0.11722983, 0.4510105 , 0.47132849, 0.42786184, 0.4136569 ,\n",
       "        0.06709102, 0.78898218, 0.83447957, 0.0988752 , 0.92155555],\n",
       "       [0.97397462, 0.2611038 , 0.24623694, 0.00490194, 0.06891907,\n",
       "        0.56461834, 0.30260702, 0.97459491, 0.16401444, 0.63021298],\n",
       "       [0.48506477, 0.64322998, 0.63309939, 0.47719616, 0.72814272,\n",
       "        0.20606057, 0.29357773, 0.57508499, 0.44313555, 0.22134576],\n",
       "       [0.60381725, 0.10975863, 0.99106213, 0.43499734, 0.4069179 ,\n",
       "        0.91416749, 0.82659177, 0.60601357, 0.76762165, 0.10802362],\n",
       "       [0.89734579, 0.11444392, 0.90836243, 0.11015948, 0.20847798,\n",
       "        0.97128374, 0.30242009, 0.53157606, 0.30558348, 0.31995848],\n",
       "       [0.68948115, 0.08067159, 0.80450714, 0.10624648, 0.82351014,\n",
       "        0.10335876, 0.78739457, 0.93663935, 0.56138951, 0.53524523]])"
      ]
     },
     "execution_count": 8,
     "metadata": {},
     "output_type": "execute_result"
    }
   ],
   "source": [
    "s"
   ]
  },
  {
   "cell_type": "code",
   "execution_count": 9,
   "metadata": {},
   "outputs": [
    {
     "data": {
      "text/plain": [
       "array([0.1968744 , 0.24562439, 0.48022316, 0.94416808, 0.62586616,\n",
       "       0.42635519, 0.16042496, 0.91342884, 0.32412713, 0.99901801])"
      ]
     },
     "execution_count": 9,
     "metadata": {},
     "output_type": "execute_result"
    }
   ],
   "source": [
    "s[0]"
   ]
  },
  {
   "cell_type": "code",
   "execution_count": 10,
   "metadata": {},
   "outputs": [
    {
     "data": {
      "text/plain": [
       "0.42635518644701575"
      ]
     },
     "execution_count": 10,
     "metadata": {},
     "output_type": "execute_result"
    }
   ],
   "source": [
    "s[0][5]"
   ]
  },
  {
   "cell_type": "code",
   "execution_count": 11,
   "metadata": {},
   "outputs": [
    {
     "data": {
      "text/plain": [
       "array([[0.80952492, 0.63431058, 0.62664061, 0.43110857, 0.52052348,\n",
       "        0.51554312, 0.85335088, 0.86787827, 0.52504198, 0.01256688],\n",
       "       [0.09776491, 0.9288483 , 0.15496467, 0.96206312, 0.15119554,\n",
       "        0.66394656, 0.6650524 , 0.12639829, 0.30264687, 0.20809227],\n",
       "       [0.97397462, 0.2611038 , 0.24623694, 0.00490194, 0.06891907,\n",
       "        0.56461834, 0.30260702, 0.97459491, 0.16401444, 0.63021298],\n",
       "       [0.60381725, 0.10975863, 0.99106213, 0.43499734, 0.4069179 ,\n",
       "        0.91416749, 0.82659177, 0.60601357, 0.76762165, 0.10802362],\n",
       "       [0.68948115, 0.08067159, 0.80450714, 0.10624648, 0.82351014,\n",
       "        0.10335876, 0.78739457, 0.93663935, 0.56138951, 0.53524523]])"
      ]
     },
     "execution_count": 11,
     "metadata": {},
     "output_type": "execute_result"
    }
   ],
   "source": [
    "s[1:10:2]"
   ]
  },
  {
   "cell_type": "code",
   "execution_count": 12,
   "metadata": {},
   "outputs": [
    {
     "data": {
      "text/plain": [
       "array([[0.1968744 , 0.24562439, 0.48022316, 0.94416808],\n",
       "       [0.80952492, 0.63431058, 0.62664061, 0.43110857],\n",
       "       [0.97572105, 0.24856718, 0.68950905, 0.45227152],\n",
       "       [0.09776491, 0.9288483 , 0.15496467, 0.96206312],\n",
       "       [0.11722983, 0.4510105 , 0.47132849, 0.42786184],\n",
       "       [0.97397462, 0.2611038 , 0.24623694, 0.00490194],\n",
       "       [0.48506477, 0.64322998, 0.63309939, 0.47719616],\n",
       "       [0.60381725, 0.10975863, 0.99106213, 0.43499734],\n",
       "       [0.89734579, 0.11444392, 0.90836243, 0.11015948],\n",
       "       [0.68948115, 0.08067159, 0.80450714, 0.10624648]])"
      ]
     },
     "execution_count": 12,
     "metadata": {},
     "output_type": "execute_result"
    }
   ],
   "source": [
    "s[::,0:4]"
   ]
  },
  {
   "cell_type": "code",
   "execution_count": 13,
   "metadata": {},
   "outputs": [],
   "source": [
    "pract = np.ones((5,5))"
   ]
  },
  {
   "cell_type": "code",
   "execution_count": 14,
   "metadata": {},
   "outputs": [
    {
     "data": {
      "text/plain": [
       "array([[1., 1., 1., 1., 1.],\n",
       "       [1., 1., 1., 1., 1.],\n",
       "       [1., 1., 1., 1., 1.],\n",
       "       [1., 1., 1., 1., 1.],\n",
       "       [1., 1., 1., 1., 1.]])"
      ]
     },
     "execution_count": 14,
     "metadata": {},
     "output_type": "execute_result"
    }
   ],
   "source": [
    "pract"
   ]
  },
  {
   "cell_type": "code",
   "execution_count": 15,
   "metadata": {},
   "outputs": [],
   "source": [
    "pract[1:-1,1:-1] = 0 "
   ]
  },
  {
   "cell_type": "code",
   "execution_count": 16,
   "metadata": {},
   "outputs": [
    {
     "data": {
      "text/plain": [
       "array([[1., 1., 1., 1., 1.],\n",
       "       [1., 0., 0., 0., 1.],\n",
       "       [1., 0., 0., 0., 1.],\n",
       "       [1., 0., 0., 0., 1.],\n",
       "       [1., 1., 1., 1., 1.]])"
      ]
     },
     "execution_count": 16,
     "metadata": {},
     "output_type": "execute_result"
    }
   ],
   "source": [
    "pract"
   ]
  },
  {
   "cell_type": "code",
   "execution_count": 17,
   "metadata": {},
   "outputs": [],
   "source": [
    "checker_board_pattern = np.ones((5,5))"
   ]
  },
  {
   "cell_type": "code",
   "execution_count": 18,
   "metadata": {},
   "outputs": [
    {
     "data": {
      "text/plain": [
       "array([[1., 1., 1., 1., 1.],\n",
       "       [1., 1., 1., 1., 1.],\n",
       "       [1., 1., 1., 1., 1.],\n",
       "       [1., 1., 1., 1., 1.],\n",
       "       [1., 1., 1., 1., 1.]])"
      ]
     },
     "execution_count": 18,
     "metadata": {},
     "output_type": "execute_result"
    }
   ],
   "source": [
    "checker_board_pattern"
   ]
  },
  {
   "cell_type": "code",
   "execution_count": 19,
   "metadata": {},
   "outputs": [],
   "source": [
    "checker_board_pattern[0:5:2,0:5:2] = 0 "
   ]
  },
  {
   "cell_type": "code",
   "execution_count": 20,
   "metadata": {},
   "outputs": [
    {
     "data": {
      "text/plain": [
       "array([[0., 1., 0., 1., 0.],\n",
       "       [1., 1., 1., 1., 1.],\n",
       "       [0., 1., 0., 1., 0.],\n",
       "       [1., 1., 1., 1., 1.],\n",
       "       [0., 1., 0., 1., 0.]])"
      ]
     },
     "execution_count": 20,
     "metadata": {},
     "output_type": "execute_result"
    }
   ],
   "source": [
    "checker_board_pattern"
   ]
  },
  {
   "cell_type": "code",
   "execution_count": 21,
   "metadata": {},
   "outputs": [],
   "source": [
    "fb_ground = np.ones((5,5))"
   ]
  },
  {
   "cell_type": "code",
   "execution_count": 22,
   "metadata": {},
   "outputs": [
    {
     "data": {
      "text/plain": [
       "array([[1., 1., 1., 1., 1.],\n",
       "       [1., 1., 1., 1., 1.],\n",
       "       [1., 1., 1., 1., 1.],\n",
       "       [1., 1., 1., 1., 1.],\n",
       "       [1., 1., 1., 1., 1.]])"
      ]
     },
     "execution_count": 22,
     "metadata": {},
     "output_type": "execute_result"
    }
   ],
   "source": [
    "fb_ground"
   ]
  },
  {
   "cell_type": "code",
   "execution_count": 23,
   "metadata": {},
   "outputs": [],
   "source": [
    "fb_ground[::,0:5:2]=0"
   ]
  },
  {
   "cell_type": "code",
   "execution_count": 24,
   "metadata": {},
   "outputs": [
    {
     "data": {
      "text/plain": [
       "array([[0., 1., 0., 1., 0.],\n",
       "       [0., 1., 0., 1., 0.],\n",
       "       [0., 1., 0., 1., 0.],\n",
       "       [0., 1., 0., 1., 0.],\n",
       "       [0., 1., 0., 1., 0.]])"
      ]
     },
     "execution_count": 24,
     "metadata": {},
     "output_type": "execute_result"
    }
   ],
   "source": [
    "fb_ground"
   ]
  }
 ],
 "metadata": {
  "kernelspec": {
   "display_name": "Python 3",
   "language": "python",
   "name": "python3"
  },
  "language_info": {
   "codemirror_mode": {
    "name": "ipython",
    "version": 3
   },
   "file_extension": ".py",
   "mimetype": "text/x-python",
   "name": "python",
   "nbconvert_exporter": "python",
   "pygments_lexer": "ipython3",
   "version": "3.7.3"
  }
 },
 "nbformat": 4,
 "nbformat_minor": 2
}
