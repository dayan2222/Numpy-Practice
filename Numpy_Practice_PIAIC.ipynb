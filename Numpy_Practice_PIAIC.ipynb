{
  "nbformat": 4,
  "nbformat_minor": 0,
  "metadata": {
    "kernelspec": {
      "display_name": "Python 3",
      "language": "python",
      "name": "python3"
    },
    "language_info": {
      "codemirror_mode": {
        "name": "ipython",
        "version": 3
      },
      "file_extension": ".py",
      "mimetype": "text/x-python",
      "name": "python",
      "nbconvert_exporter": "python",
      "pygments_lexer": "ipython3",
      "version": "3.7.3"
    },
    "colab": {
      "name": "Numpy Practice PIAIC.ipynb",
      "provenance": [],
      "collapsed_sections": [],
      "include_colab_link": true
    }
  },
  "cells": [
    {
      "cell_type": "markdown",
      "metadata": {
        "id": "view-in-github",
        "colab_type": "text"
      },
      "source": [
        "<a href=\"https://colab.research.google.com/github/dayan2222/Numpy-Practice/blob/master/Numpy_Practice_PIAIC.ipynb\" target=\"_parent\"><img src=\"https://colab.research.google.com/assets/colab-badge.svg\" alt=\"Open In Colab\"/></a>"
      ]
    },
    {
      "cell_type": "markdown",
      "metadata": {
        "id": "sItOV253Ndyb",
        "colab_type": "text"
      },
      "source": [
        "# Numpy Vs Python Notebook"
      ]
    },
    {
      "cell_type": "code",
      "metadata": {
        "id": "wsB8VMzH6CAE",
        "colab_type": "code",
        "colab": {}
      },
      "source": [
        "import numpy as np"
      ],
      "execution_count": 0,
      "outputs": []
    },
    {
      "cell_type": "code",
      "metadata": {
        "id": "TZFM5Lt2Ndyd",
        "colab_type": "code",
        "colab": {}
      },
      "source": [
        "l = range(1000000) # Returns List"
      ],
      "execution_count": 0,
      "outputs": []
    },
    {
      "cell_type": "code",
      "metadata": {
        "id": "Ho0NY0UENdyl",
        "colab_type": "code",
        "colab": {}
      },
      "source": [
        "import numpy as np"
      ],
      "execution_count": 0,
      "outputs": []
    },
    {
      "cell_type": "code",
      "metadata": {
        "id": "mICSQik-Ndyq",
        "colab_type": "code",
        "colab": {}
      },
      "source": [
        "d = np.arange(1000000)# arange Returns array"
      ],
      "execution_count": 0,
      "outputs": []
    },
    {
      "cell_type": "code",
      "metadata": {
        "id": "qTAbmredNdyu",
        "colab_type": "code",
        "colab": {
          "base_uri": "https://localhost:8080/",
          "height": 51
        },
        "outputId": "7c33f40d-be54-4df3-f94d-fe6f4e1f853e"
      },
      "source": [
        "%time for i in range(1,10): r = [x*2 for x in l]"
      ],
      "execution_count": 5,
      "outputs": [
        {
          "output_type": "stream",
          "text": [
            "CPU times: user 647 ms, sys: 130 ms, total: 777 ms\n",
            "Wall time: 781 ms\n"
          ],
          "name": "stdout"
        }
      ]
    },
    {
      "cell_type": "code",
      "metadata": {
        "id": "6-MUxo6ENdy2",
        "colab_type": "code",
        "colab": {
          "base_uri": "https://localhost:8080/",
          "height": 51
        },
        "outputId": "96383c22-fdc6-44d4-c2d2-ed7185fb23a6"
      },
      "source": [
        "%time for i in range(1,10): r = d*2"
      ],
      "execution_count": 6,
      "outputs": [
        {
          "output_type": "stream",
          "text": [
            "CPU times: user 27.9 ms, sys: 4.2 ms, total: 32.1 ms\n",
            "Wall time: 33.6 ms\n"
          ],
          "name": "stdout"
        }
      ]
    },
    {
      "cell_type": "markdown",
      "metadata": {
        "id": "2NuF44CnNdy6",
        "colab_type": "text"
      },
      "source": [
        "# Multidimensioal Array\n",
        "    "
      ]
    },
    {
      "cell_type": "code",
      "metadata": {
        "id": "gFjYAYgCNdzB",
        "colab_type": "code",
        "colab": {}
      },
      "source": [
        "x = np.zeros((4,4))#zeros create array whose all values are zero"
      ],
      "execution_count": 0,
      "outputs": []
    },
    {
      "cell_type": "code",
      "metadata": {
        "id": "rmAmagnjNdzG",
        "colab_type": "code",
        "colab": {
          "base_uri": "https://localhost:8080/",
          "height": 85
        },
        "outputId": "de7355ba-6013-4d3c-a1fe-7bc8b16f1916"
      },
      "source": [
        "x"
      ],
      "execution_count": 8,
      "outputs": [
        {
          "output_type": "execute_result",
          "data": {
            "text/plain": [
              "array([[0., 0., 0., 0.],\n",
              "       [0., 0., 0., 0.],\n",
              "       [0., 0., 0., 0.],\n",
              "       [0., 0., 0., 0.]])"
            ]
          },
          "metadata": {
            "tags": []
          },
          "execution_count": 8
        }
      ]
    },
    {
      "cell_type": "code",
      "metadata": {
        "id": "OivP9BmiNdzL",
        "colab_type": "code",
        "colab": {
          "base_uri": "https://localhost:8080/",
          "height": 102
        },
        "outputId": "9eed9d42-09fe-4d2d-9995-82dd342b9aef"
      },
      "source": [
        "np.ones((5,5))#ones Returns the one array element"
      ],
      "execution_count": 9,
      "outputs": [
        {
          "output_type": "execute_result",
          "data": {
            "text/plain": [
              "array([[1., 1., 1., 1., 1.],\n",
              "       [1., 1., 1., 1., 1.],\n",
              "       [1., 1., 1., 1., 1.],\n",
              "       [1., 1., 1., 1., 1.],\n",
              "       [1., 1., 1., 1., 1.]])"
            ]
          },
          "metadata": {
            "tags": []
          },
          "execution_count": 9
        }
      ]
    },
    {
      "cell_type": "code",
      "metadata": {
        "id": "pStnd_ySNdzP",
        "colab_type": "code",
        "colab": {
          "base_uri": "https://localhost:8080/",
          "height": 255
        },
        "outputId": "9d218907-6c85-465e-ce36-c98eab69c97b"
      },
      "source": [
        "np.empty((7,7))#empty not necessary all elements will zero it have a random number of values"
      ],
      "execution_count": 10,
      "outputs": [
        {
          "output_type": "execute_result",
          "data": {
            "text/plain": [
              "array([[3.1662209e-316, 0.0000000e+000, 0.0000000e+000, 0.0000000e+000,\n",
              "        0.0000000e+000, 0.0000000e+000, 0.0000000e+000],\n",
              "       [0.0000000e+000, 0.0000000e+000, 0.0000000e+000, 0.0000000e+000,\n",
              "        0.0000000e+000, 0.0000000e+000, 0.0000000e+000],\n",
              "       [0.0000000e+000, 0.0000000e+000, 0.0000000e+000, 0.0000000e+000,\n",
              "        0.0000000e+000, 0.0000000e+000, 0.0000000e+000],\n",
              "       [0.0000000e+000, 0.0000000e+000, 0.0000000e+000, 0.0000000e+000,\n",
              "        0.0000000e+000, 0.0000000e+000, 0.0000000e+000],\n",
              "       [0.0000000e+000, 0.0000000e+000, 0.0000000e+000, 0.0000000e+000,\n",
              "        0.0000000e+000, 0.0000000e+000, 0.0000000e+000],\n",
              "       [0.0000000e+000, 0.0000000e+000, 0.0000000e+000, 0.0000000e+000,\n",
              "        0.0000000e+000, 0.0000000e+000, 0.0000000e+000],\n",
              "       [0.0000000e+000, 0.0000000e+000, 0.0000000e+000, 0.0000000e+000,\n",
              "        0.0000000e+000, 0.0000000e+000, 0.0000000e+000]])"
            ]
          },
          "metadata": {
            "tags": []
          },
          "execution_count": 10
        }
      ]
    },
    {
      "cell_type": "markdown",
      "metadata": {
        "id": "lYIZDNnRNdzW",
        "colab_type": "text"
      },
      "source": [
        "we can also used python list to declare in numpy array"
      ]
    },
    {
      "cell_type": "code",
      "metadata": {
        "id": "UYADKMicNdzX",
        "colab_type": "code",
        "colab": {}
      },
      "source": [
        " l = [1,4,5,7]"
      ],
      "execution_count": 0,
      "outputs": []
    },
    {
      "cell_type": "code",
      "metadata": {
        "id": "Yav_Xp7CNdzc",
        "colab_type": "code",
        "colab": {
          "base_uri": "https://localhost:8080/",
          "height": 34
        },
        "outputId": "cad6f79b-3ace-4aad-b23e-e5aa1460d463"
      },
      "source": [
        "np.array(l)"
      ],
      "execution_count": 12,
      "outputs": [
        {
          "output_type": "execute_result",
          "data": {
            "text/plain": [
              "array([1, 4, 5, 7])"
            ]
          },
          "metadata": {
            "tags": []
          },
          "execution_count": 12
        }
      ]
    },
    {
      "cell_type": "code",
      "metadata": {
        "id": "Rh6rbztUNdzh",
        "colab_type": "code",
        "colab": {}
      },
      "source": [
        "x=np.arange(1,100,10)#arange within the desired along with step size generates the values"
      ],
      "execution_count": 0,
      "outputs": []
    },
    {
      "cell_type": "code",
      "metadata": {
        "id": "g2KZUjQRNdzn",
        "colab_type": "code",
        "colab": {
          "base_uri": "https://localhost:8080/",
          "height": 34
        },
        "outputId": "63e087b4-92f2-4e92-b8f0-448eb7277781"
      },
      "source": [
        "x "
      ],
      "execution_count": 14,
      "outputs": [
        {
          "output_type": "execute_result",
          "data": {
            "text/plain": [
              "array([ 1, 11, 21, 31, 41, 51, 61, 71, 81, 91])"
            ]
          },
          "metadata": {
            "tags": []
          },
          "execution_count": 14
        }
      ]
    },
    {
      "cell_type": "code",
      "metadata": {
        "id": "ItU0R6ynNdzs",
        "colab_type": "code",
        "colab": {}
      },
      "source": [
        "x = np.zeros((10,10))"
      ],
      "execution_count": 0,
      "outputs": []
    },
    {
      "cell_type": "code",
      "metadata": {
        "id": "W4t4Z61vNdzx",
        "colab_type": "code",
        "colab": {
          "base_uri": "https://localhost:8080/",
          "height": 34
        },
        "outputId": "04bd0a2b-566c-457b-f3a7-e9eb71fb0a4c"
      },
      "source": [
        "x.shape"
      ],
      "execution_count": 16,
      "outputs": [
        {
          "output_type": "execute_result",
          "data": {
            "text/plain": [
              "(10, 10)"
            ]
          },
          "metadata": {
            "tags": []
          },
          "execution_count": 16
        }
      ]
    },
    {
      "cell_type": "markdown",
      "metadata": {
        "id": "sWIpEQatNdz3",
        "colab_type": "text"
      },
      "source": [
        "reshape method used to reshape the array but the number of elements should be same"
      ]
    },
    {
      "cell_type": "code",
      "metadata": {
        "id": "NM3UMKOONdz4",
        "colab_type": "code",
        "colab": {}
      },
      "source": [
        "y = x.reshape((2,2,5,5))"
      ],
      "execution_count": 0,
      "outputs": []
    },
    {
      "cell_type": "code",
      "metadata": {
        "id": "a4qF75t5Ndz-",
        "colab_type": "code",
        "colab": {
          "base_uri": "https://localhost:8080/",
          "height": 425
        },
        "outputId": "c693af80-cbc0-4021-b4e1-0c247940d231"
      },
      "source": [
        "y"
      ],
      "execution_count": 18,
      "outputs": [
        {
          "output_type": "execute_result",
          "data": {
            "text/plain": [
              "array([[[[0., 0., 0., 0., 0.],\n",
              "         [0., 0., 0., 0., 0.],\n",
              "         [0., 0., 0., 0., 0.],\n",
              "         [0., 0., 0., 0., 0.],\n",
              "         [0., 0., 0., 0., 0.]],\n",
              "\n",
              "        [[0., 0., 0., 0., 0.],\n",
              "         [0., 0., 0., 0., 0.],\n",
              "         [0., 0., 0., 0., 0.],\n",
              "         [0., 0., 0., 0., 0.],\n",
              "         [0., 0., 0., 0., 0.]]],\n",
              "\n",
              "\n",
              "       [[[0., 0., 0., 0., 0.],\n",
              "         [0., 0., 0., 0., 0.],\n",
              "         [0., 0., 0., 0., 0.],\n",
              "         [0., 0., 0., 0., 0.],\n",
              "         [0., 0., 0., 0., 0.]],\n",
              "\n",
              "        [[0., 0., 0., 0., 0.],\n",
              "         [0., 0., 0., 0., 0.],\n",
              "         [0., 0., 0., 0., 0.],\n",
              "         [0., 0., 0., 0., 0.],\n",
              "         [0., 0., 0., 0., 0.]]]])"
            ]
          },
          "metadata": {
            "tags": []
          },
          "execution_count": 18
        }
      ]
    },
    {
      "cell_type": "code",
      "metadata": {
        "id": "ab4WZri8Nd0E",
        "colab_type": "code",
        "colab": {
          "base_uri": "https://localhost:8080/",
          "height": 34
        },
        "outputId": "1439eba5-d886-4c7c-9391-ef801551643d"
      },
      "source": [
        "y.dtype # for datatype DT might be string float int or whatsoever"
      ],
      "execution_count": 19,
      "outputs": [
        {
          "output_type": "execute_result",
          "data": {
            "text/plain": [
              "dtype('float64')"
            ]
          },
          "metadata": {
            "tags": []
          },
          "execution_count": 19
        }
      ]
    },
    {
      "cell_type": "code",
      "metadata": {
        "id": "ebW16mX5Nd0L",
        "colab_type": "code",
        "colab": {
          "base_uri": "https://localhost:8080/",
          "height": 34
        },
        "outputId": "d66e7be1-0753-4e4e-8124-33ab94803412"
      },
      "source": [
        "y.ndim"
      ],
      "execution_count": 20,
      "outputs": [
        {
          "output_type": "execute_result",
          "data": {
            "text/plain": [
              "4"
            ]
          },
          "metadata": {
            "tags": []
          },
          "execution_count": 20
        }
      ]
    },
    {
      "cell_type": "markdown",
      "metadata": {
        "id": "3DLB51Lm1UBh",
        "colab_type": "text"
      },
      "source": [
        "# Airthemetic Operations \n",
        "Add, Sub, Multiply, Divide and Boolean"
      ]
    },
    {
      "cell_type": "code",
      "metadata": {
        "id": "y_tkeZG5Nd0S",
        "colab_type": "code",
        "colab": {}
      },
      "source": [
        "a = np.random.randn((10))"
      ],
      "execution_count": 0,
      "outputs": []
    },
    {
      "cell_type": "code",
      "metadata": {
        "id": "f7XniN0latkl",
        "colab_type": "code",
        "colab": {}
      },
      "source": [
        "b = np.random.randn((10))"
      ],
      "execution_count": 0,
      "outputs": []
    },
    {
      "cell_type": "code",
      "metadata": {
        "id": "3PYt0fjEaxkz",
        "colab_type": "code",
        "colab": {
          "base_uri": "https://localhost:8080/",
          "height": 51
        },
        "outputId": "f42c2196-cc1d-493b-fa60-d8b900c51373"
      },
      "source": [
        "a "
      ],
      "execution_count": 23,
      "outputs": [
        {
          "output_type": "execute_result",
          "data": {
            "text/plain": [
              "array([-0.77634458,  1.98762306, -0.46743739,  1.67362798, -0.42199206,\n",
              "        0.68629152,  0.68426594, -0.49383136,  2.44996932, -0.0033759 ])"
            ]
          },
          "metadata": {
            "tags": []
          },
          "execution_count": 23
        }
      ]
    },
    {
      "cell_type": "code",
      "metadata": {
        "id": "QQcuuWovayue",
        "colab_type": "code",
        "colab": {
          "base_uri": "https://localhost:8080/",
          "height": 51
        },
        "outputId": "c150d433-8eca-4fd5-f2aa-97c3a67fbe32"
      },
      "source": [
        "b"
      ],
      "execution_count": 24,
      "outputs": [
        {
          "output_type": "execute_result",
          "data": {
            "text/plain": [
              "array([-0.12675198,  0.96743891,  1.87845667, -0.40616207,  0.22644926,\n",
              "        0.70651687, -0.41918958, -0.88942339, -2.116676  ,  0.4577888 ])"
            ]
          },
          "metadata": {
            "tags": []
          },
          "execution_count": 24
        }
      ]
    },
    {
      "cell_type": "code",
      "metadata": {
        "id": "yPIM7hDQazW-",
        "colab_type": "code",
        "colab": {
          "base_uri": "https://localhost:8080/",
          "height": 51
        },
        "outputId": "eb63b5db-4ddc-4ed0-9e2f-87c5fa8fc0d6"
      },
      "source": [
        "a+b"
      ],
      "execution_count": 25,
      "outputs": [
        {
          "output_type": "execute_result",
          "data": {
            "text/plain": [
              "array([-0.90309656,  2.95506197,  1.41101928,  1.26746591, -0.1955428 ,\n",
              "        1.39280839,  0.26507636, -1.38325475,  0.33329331,  0.45441289])"
            ]
          },
          "metadata": {
            "tags": []
          },
          "execution_count": 25
        }
      ]
    },
    {
      "cell_type": "code",
      "metadata": {
        "id": "QKYr9mJ7a1vD",
        "colab_type": "code",
        "colab": {
          "base_uri": "https://localhost:8080/",
          "height": 51
        },
        "outputId": "fc9404b8-fa93-47a7-fe48-290afa19f333"
      },
      "source": [
        "a - b"
      ],
      "execution_count": 26,
      "outputs": [
        {
          "output_type": "execute_result",
          "data": {
            "text/plain": [
              "array([-0.64959259,  1.02018414, -2.34589407,  2.07979005, -0.64844133,\n",
              "       -0.02022535,  1.10345552,  0.39559202,  4.56664532, -0.4611647 ])"
            ]
          },
          "metadata": {
            "tags": []
          },
          "execution_count": 26
        }
      ]
    },
    {
      "cell_type": "code",
      "metadata": {
        "id": "K48U_KpFa3Kw",
        "colab_type": "code",
        "colab": {
          "base_uri": "https://localhost:8080/",
          "height": 51
        },
        "outputId": "16dfe188-e7b9-48f9-b7fe-21a1fb904872"
      },
      "source": [
        "2*a"
      ],
      "execution_count": 27,
      "outputs": [
        {
          "output_type": "execute_result",
          "data": {
            "text/plain": [
              "array([-1.55268915,  3.97524611, -0.93487479,  3.34725595, -0.84398413,\n",
              "        1.37258304,  1.36853188, -0.98766272,  4.89993863, -0.0067518 ])"
            ]
          },
          "metadata": {
            "tags": []
          },
          "execution_count": 27
        }
      ]
    },
    {
      "cell_type": "code",
      "metadata": {
        "id": "QiTu-Wfma4jr",
        "colab_type": "code",
        "colab": {
          "base_uri": "https://localhost:8080/",
          "height": 68
        },
        "outputId": "357db08f-df19-4043-da11-de48219761f9"
      },
      "source": [
        "1 / a"
      ],
      "execution_count": 28,
      "outputs": [
        {
          "output_type": "execute_result",
          "data": {
            "text/plain": [
              "array([  -1.28808783,    0.5031135 ,   -2.13932393,    0.59750435,\n",
              "         -2.36971281,    1.45710674,    1.46142011,   -2.02498277,\n",
              "          0.40816838, -296.21712174])"
            ]
          },
          "metadata": {
            "tags": []
          },
          "execution_count": 28
        }
      ]
    },
    {
      "cell_type": "code",
      "metadata": {
        "id": "ta0OvmyIa6h5",
        "colab_type": "code",
        "colab": {
          "base_uri": "https://localhost:8080/",
          "height": 51
        },
        "outputId": "2fd5d8c6-07e9-4048-8a39-fddafec70627"
      },
      "source": [
        "a > 0"
      ],
      "execution_count": 29,
      "outputs": [
        {
          "output_type": "execute_result",
          "data": {
            "text/plain": [
              "array([False,  True, False,  True, False,  True,  True, False,  True,\n",
              "       False])"
            ]
          },
          "metadata": {
            "tags": []
          },
          "execution_count": 29
        }
      ]
    },
    {
      "cell_type": "code",
      "metadata": {
        "id": "YLF6-lTOa8sQ",
        "colab_type": "code",
        "colab": {
          "base_uri": "https://localhost:8080/",
          "height": 34
        },
        "outputId": "c3bf46a2-a12a-4800-f292-1dbb713a4490"
      },
      "source": [
        "a[a>0]"
      ],
      "execution_count": 30,
      "outputs": [
        {
          "output_type": "execute_result",
          "data": {
            "text/plain": [
              "array([1.98762306, 1.67362798, 0.68629152, 0.68426594, 2.44996932])"
            ]
          },
          "metadata": {
            "tags": []
          },
          "execution_count": 30
        }
      ]
    },
    {
      "cell_type": "markdown",
      "metadata": {
        "id": "K4esXa4P5X7y",
        "colab_type": "text"
      },
      "source": [
        "# Indexing And Slicing\n",
        "\n",
        "Specify the start position and ending position and also specify the step size.\n",
        "- -ve numbers will be marked as last.\n"
      ]
    },
    {
      "cell_type": "code",
      "metadata": {
        "id": "sxBAOXOB5d_R",
        "colab_type": "code",
        "colab": {}
      },
      "source": [
        "x = np.array([1,7,5,6,8,3])"
      ],
      "execution_count": 0,
      "outputs": []
    },
    {
      "cell_type": "code",
      "metadata": {
        "id": "o0aWPzpd6O9o",
        "colab_type": "code",
        "colab": {
          "base_uri": "https://localhost:8080/",
          "height": 34
        },
        "outputId": "e0fc4c5c-708e-42ee-fdc2-e338f5524d77"
      },
      "source": [
        "x[4] # indexing of list values"
      ],
      "execution_count": 32,
      "outputs": [
        {
          "output_type": "execute_result",
          "data": {
            "text/plain": [
              "8"
            ]
          },
          "metadata": {
            "tags": []
          },
          "execution_count": 32
        }
      ]
    },
    {
      "cell_type": "markdown",
      "metadata": {
        "id": "tLmH-MqG6f9V",
        "colab_type": "text"
      },
      "source": [
        "## Boolean Indexing"
      ]
    },
    {
      "cell_type": "code",
      "metadata": {
        "id": "HqjVr2E_6TlU",
        "colab_type": "code",
        "colab": {
          "base_uri": "https://localhost:8080/",
          "height": 34
        },
        "outputId": "6a028faa-d739-4dd0-f896-78aad8885a32"
      },
      "source": [
        "x [x>5]"
      ],
      "execution_count": 33,
      "outputs": [
        {
          "output_type": "execute_result",
          "data": {
            "text/plain": [
              "array([7, 6, 8])"
            ]
          },
          "metadata": {
            "tags": []
          },
          "execution_count": 33
        }
      ]
    },
    {
      "cell_type": "code",
      "metadata": {
        "id": "MkVLWlYW6Yxf",
        "colab_type": "code",
        "colab": {
          "base_uri": "https://localhost:8080/",
          "height": 34
        },
        "outputId": "f97fb135-dbc2-484a-8be8-244ae477f727"
      },
      "source": [
        "x"
      ],
      "execution_count": 34,
      "outputs": [
        {
          "output_type": "execute_result",
          "data": {
            "text/plain": [
              "array([1, 7, 5, 6, 8, 3])"
            ]
          },
          "metadata": {
            "tags": []
          },
          "execution_count": 34
        }
      ]
    },
    {
      "cell_type": "markdown",
      "metadata": {
        "id": "iPdMxY7J6nJ2",
        "colab_type": "text"
      },
      "source": [
        "## Fancy Indexing\n",
        "Pass a ist and then get the desired element on the selected position which is passed as a list"
      ]
    },
    {
      "cell_type": "code",
      "metadata": {
        "id": "xMv634vS6ozY",
        "colab_type": "code",
        "colab": {
          "base_uri": "https://localhost:8080/",
          "height": 34
        },
        "outputId": "b82ea549-0587-4ceb-9ec2-57f1f3567f23"
      },
      "source": [
        "x[[2,1]]"
      ],
      "execution_count": 35,
      "outputs": [
        {
          "output_type": "execute_result",
          "data": {
            "text/plain": [
              "array([5, 7])"
            ]
          },
          "metadata": {
            "tags": []
          },
          "execution_count": 35
        }
      ]
    },
    {
      "cell_type": "markdown",
      "metadata": {
        "id": "FU9jBjTW65j2",
        "colab_type": "text"
      },
      "source": [
        "## Slicing\n"
      ]
    },
    {
      "cell_type": "code",
      "metadata": {
        "id": "Xxp6Nhwb68Yh",
        "colab_type": "code",
        "colab": {}
      },
      "source": [
        "x = np.random.randn(10,10)"
      ],
      "execution_count": 0,
      "outputs": []
    },
    {
      "cell_type": "code",
      "metadata": {
        "id": "iAuJqrY87Fwa",
        "colab_type": "code",
        "colab": {
          "base_uri": "https://localhost:8080/",
          "height": 357
        },
        "outputId": "afa94546-625b-42c4-93f9-f45dd1d78930"
      },
      "source": [
        "x"
      ],
      "execution_count": 37,
      "outputs": [
        {
          "output_type": "execute_result",
          "data": {
            "text/plain": [
              "array([[-0.22640482,  0.04491281, -0.95963494,  1.14789632,  1.38851523,\n",
              "         1.7750981 , -1.26370507,  1.41567615, -1.156041  , -0.37829295],\n",
              "       [ 0.38526352, -0.58763891,  0.45826068,  1.6578168 ,  0.37789392,\n",
              "        -0.44545527, -1.26383428,  0.12387825, -0.90015004,  0.55910798],\n",
              "       [ 0.28093848,  0.2398032 ,  0.42624057,  0.3836606 ,  1.19969506,\n",
              "         1.11718013, -0.25944088,  1.05586389, -0.79161101, -1.28890708],\n",
              "       [ 0.67086746,  0.55279863, -0.85902517,  0.90140108,  1.24234514,\n",
              "         1.43558024,  0.05012575,  1.21954675,  1.01464036, -0.82203985],\n",
              "       [-0.52664481,  0.78859381,  1.01061534,  1.56751537, -0.91248854,\n",
              "        -0.10993654,  1.43620603,  0.63660676, -0.65397567,  1.59971092],\n",
              "       [-1.24098015,  0.64642567, -0.70438542, -0.01148276, -0.89181083,\n",
              "        -0.58087969, -0.02709361, -1.2565756 , -0.63713519,  2.08897683],\n",
              "       [-0.22041874, -1.57397698,  0.79759481, -0.3703391 ,  0.52624822,\n",
              "        -0.64930743,  1.13055229,  0.63006064,  1.45288163, -2.18956717],\n",
              "       [-0.5236321 , -0.49973193,  0.21294631,  0.85893255,  1.03468357,\n",
              "        -0.11457703,  0.30588752, -1.00659659,  1.14964987,  0.26666202],\n",
              "       [-0.95487369, -0.02550143,  0.06009341,  0.75908519, -1.39757463,\n",
              "        -0.87670015,  0.52744966, -0.16333265,  1.97217705, -0.04333566],\n",
              "       [-0.76092908, -1.58832679,  2.09056149, -0.3690862 ,  1.88295052,\n",
              "        -0.97714446, -1.60302361,  0.32085137,  0.36466482, -1.22436246]])"
            ]
          },
          "metadata": {
            "tags": []
          },
          "execution_count": 37
        }
      ]
    },
    {
      "cell_type": "code",
      "metadata": {
        "id": "gkNdTEMS7H9P",
        "colab_type": "code",
        "colab": {
          "base_uri": "https://localhost:8080/",
          "height": 51
        },
        "outputId": "9cb823b7-fced-47f3-deb3-b41fc1477cc3"
      },
      "source": [
        "x[0] # will return the first row "
      ],
      "execution_count": 38,
      "outputs": [
        {
          "output_type": "execute_result",
          "data": {
            "text/plain": [
              "array([-0.22640482,  0.04491281, -0.95963494,  1.14789632,  1.38851523,\n",
              "        1.7750981 , -1.26370507,  1.41567615, -1.156041  , -0.37829295])"
            ]
          },
          "metadata": {
            "tags": []
          },
          "execution_count": 38
        }
      ]
    },
    {
      "cell_type": "code",
      "metadata": {
        "id": "He4x9iOL7KZ2",
        "colab_type": "code",
        "colab": {
          "base_uri": "https://localhost:8080/",
          "height": 34
        },
        "outputId": "9e3c064a-016f-4f6f-c789-4a1c388fc2c7"
      },
      "source": [
        "x[0][4] # will return the first row and first column"
      ],
      "execution_count": 39,
      "outputs": [
        {
          "output_type": "execute_result",
          "data": {
            "text/plain": [
              "1.3885152270593584"
            ]
          },
          "metadata": {
            "tags": []
          },
          "execution_count": 39
        }
      ]
    },
    {
      "cell_type": "code",
      "metadata": {
        "id": "w2l_e-Oc7MLU",
        "colab_type": "code",
        "colab": {
          "base_uri": "https://localhost:8080/",
          "height": 187
        },
        "outputId": "9404f0ed-e057-4280-af6b-05ddbc65bc78"
      },
      "source": [
        "x [1:10:2] # here is the step size. Hence it leaves the one column from each row"
      ],
      "execution_count": 40,
      "outputs": [
        {
          "output_type": "execute_result",
          "data": {
            "text/plain": [
              "array([[ 0.38526352, -0.58763891,  0.45826068,  1.6578168 ,  0.37789392,\n",
              "        -0.44545527, -1.26383428,  0.12387825, -0.90015004,  0.55910798],\n",
              "       [ 0.67086746,  0.55279863, -0.85902517,  0.90140108,  1.24234514,\n",
              "         1.43558024,  0.05012575,  1.21954675,  1.01464036, -0.82203985],\n",
              "       [-1.24098015,  0.64642567, -0.70438542, -0.01148276, -0.89181083,\n",
              "        -0.58087969, -0.02709361, -1.2565756 , -0.63713519,  2.08897683],\n",
              "       [-0.5236321 , -0.49973193,  0.21294631,  0.85893255,  1.03468357,\n",
              "        -0.11457703,  0.30588752, -1.00659659,  1.14964987,  0.26666202],\n",
              "       [-0.76092908, -1.58832679,  2.09056149, -0.3690862 ,  1.88295052,\n",
              "        -0.97714446, -1.60302361,  0.32085137,  0.36466482, -1.22436246]])"
            ]
          },
          "metadata": {
            "tags": []
          },
          "execution_count": 40
        }
      ]
    },
    {
      "cell_type": "code",
      "metadata": {
        "id": "wFywz1217k-F",
        "colab_type": "code",
        "colab": {
          "base_uri": "https://localhost:8080/",
          "height": 187
        },
        "outputId": "e8f5d1b0-314b-4ea8-ac90-9f99436d9cac"
      },
      "source": [
        "x[::,0:4] # all the rows and four columns from the start"
      ],
      "execution_count": 41,
      "outputs": [
        {
          "output_type": "execute_result",
          "data": {
            "text/plain": [
              "array([[-0.22640482,  0.04491281, -0.95963494,  1.14789632],\n",
              "       [ 0.38526352, -0.58763891,  0.45826068,  1.6578168 ],\n",
              "       [ 0.28093848,  0.2398032 ,  0.42624057,  0.3836606 ],\n",
              "       [ 0.67086746,  0.55279863, -0.85902517,  0.90140108],\n",
              "       [-0.52664481,  0.78859381,  1.01061534,  1.56751537],\n",
              "       [-1.24098015,  0.64642567, -0.70438542, -0.01148276],\n",
              "       [-0.22041874, -1.57397698,  0.79759481, -0.3703391 ],\n",
              "       [-0.5236321 , -0.49973193,  0.21294631,  0.85893255],\n",
              "       [-0.95487369, -0.02550143,  0.06009341,  0.75908519],\n",
              "       [-0.76092908, -1.58832679,  2.09056149, -0.3690862 ]])"
            ]
          },
          "metadata": {
            "tags": []
          },
          "execution_count": 41
        }
      ]
    },
    {
      "cell_type": "code",
      "metadata": {
        "id": "GIe0iV7S8Nk_",
        "colab_type": "code",
        "colab": {}
      },
      "source": [
        "x = np.ones((5,5))"
      ],
      "execution_count": 0,
      "outputs": []
    },
    {
      "cell_type": "code",
      "metadata": {
        "id": "AX5j3iiC8lf9",
        "colab_type": "code",
        "colab": {
          "base_uri": "https://localhost:8080/",
          "height": 102
        },
        "outputId": "3afcd1a9-3f6f-402a-f2c4-211bf0d19c7e"
      },
      "source": [
        "x"
      ],
      "execution_count": 43,
      "outputs": [
        {
          "output_type": "execute_result",
          "data": {
            "text/plain": [
              "array([[1., 1., 1., 1., 1.],\n",
              "       [1., 1., 1., 1., 1.],\n",
              "       [1., 1., 1., 1., 1.],\n",
              "       [1., 1., 1., 1., 1.],\n",
              "       [1., 1., 1., 1., 1.]])"
            ]
          },
          "metadata": {
            "tags": []
          },
          "execution_count": 43
        }
      ]
    },
    {
      "cell_type": "code",
      "metadata": {
        "id": "j10ws-Dh8pEB",
        "colab_type": "code",
        "colab": {}
      },
      "source": [
        "x[1:-1,1:-1] = 0"
      ],
      "execution_count": 0,
      "outputs": []
    },
    {
      "cell_type": "code",
      "metadata": {
        "id": "whWeTT2I8vK-",
        "colab_type": "code",
        "colab": {
          "base_uri": "https://localhost:8080/",
          "height": 102
        },
        "outputId": "de55cf97-a78c-4957-cb00-c61477287a80"
      },
      "source": [
        "x"
      ],
      "execution_count": 45,
      "outputs": [
        {
          "output_type": "execute_result",
          "data": {
            "text/plain": [
              "array([[1., 1., 1., 1., 1.],\n",
              "       [1., 0., 0., 0., 1.],\n",
              "       [1., 0., 0., 0., 1.],\n",
              "       [1., 0., 0., 0., 1.],\n",
              "       [1., 1., 1., 1., 1.]])"
            ]
          },
          "metadata": {
            "tags": []
          },
          "execution_count": 45
        }
      ]
    },
    {
      "cell_type": "code",
      "metadata": {
        "id": "_Lv8p8Ic8wlY",
        "colab_type": "code",
        "colab": {}
      },
      "source": [
        ""
      ],
      "execution_count": 0,
      "outputs": []
    }
  ]
}